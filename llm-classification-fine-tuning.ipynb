{
 "cells": [
  {
   "cell_type": "code",
   "execution_count": 1,
   "id": "a31fe306",
   "metadata": {
    "_cell_guid": "b1076dfc-b9ad-4769-8c92-a6c4dae69d19",
    "_uuid": "8f2839f25d086af736a60e9eeb907d3b93b6e0e5",
    "execution": {
     "iopub.execute_input": "2024-12-22T02:11:52.443358Z",
     "iopub.status.busy": "2024-12-22T02:11:52.442960Z",
     "iopub.status.idle": "2024-12-22T02:11:58.154030Z",
     "shell.execute_reply": "2024-12-22T02:11:58.152979Z"
    },
    "papermill": {
     "duration": 5.716844,
     "end_time": "2024-12-22T02:11:58.155850",
     "exception": false,
     "start_time": "2024-12-22T02:11:52.439006",
     "status": "completed"
    },
    "tags": []
   },
   "outputs": [
    {
     "name": "stdout",
     "output_type": "stream",
     "text": [
      "/kaggle/input/llm-classification-finetuning/sample_submission.csv\n",
      "/kaggle/input/llm-classification-finetuning/train.csv\n",
      "/kaggle/input/llm-classification-finetuning/test.csv\n",
      "Dataset Shape: (57477, 9)\n",
      "\n",
      "Columns: ['id', 'model_a', 'model_b', 'prompt', 'response_a', 'response_b', 'winner_model_a', 'winner_model_b', 'winner_tie']\n",
      "\n",
      "Sample of data:\n",
      "      id             model_a     model_b  \\\n",
      "0  30192  gpt-4-1106-preview  gpt-4-0613   \n",
      "1  53567           koala-13b  gpt-4-0613   \n",
      "\n",
      "                                                                                                                                                                                                     prompt  \\\n",
      "0                                     [\"Is it morally right to try to have a certain percentage of females on managerial positions?\",\"OK, does pineapple belong on a pizza? Relax and give me fun answer.\"]   \n",
      "1  [\"What is the difference between marriage license and marriage certificate?\",\"How can I get both of them as quick as possible in California \",\"What is the minimal time to get them? 1 day or 10 days?\"]   \n",
      "\n",
      "                                                                                                                                                                                                                                                                                                                                                                                                                                                                                                                                                                                                                                                                                                                                                                                                                                                                                                                                                                                                                                                                                                                                                                                                                                                                                                                                                                                                                                                                                                                                                                                                                                                                                                                                                                                                                                                                                                                                                                                                                                                                                                                                                                                                                                                                                                                                                                                                                                                                                                                                                                                                                                                                                                                                                                                                                                                                                                                                                                                                                                                                                                                                                                                                                                                                                                                                                                                                                                                                                                                                                                                                                                                                                                                                                                                                                                                                                                                                                                                                                                                                                                                                                                                                                                                                                                                                                                                                                                                                                                                                                                                                                                                                                                                   response_a  \\\n",
      "0  [\"The question of whether it is morally right to aim for a certain percentage of females in managerial positions is a complex ethical issue that involves considerations of fairness, equality, diversity, and discrimination.\\n\\nHere are some arguments in favor of and against such policies:\\n\\n**Arguments in favor:**\\n\\n1. **Correcting Historical Inequities:** Women have historically been underrepresented in leadership roles due to various cultural, institutional, and social barriers. Aiming for a specific percentage can be seen as a corrective measure to address past and ongoing discrimination.\\n\\n2. **Promoting Diversity:** Diverse leadership teams can enhance decision-making and represent a broader range of perspectives. This can lead to better outcomes for organizations and society as a whole.\\n\\n3. **Equality of Opportunity:** Setting targets for female representation in management can help ensure that women have equal opportunities to advance in their careers.\\n\\n4. **Role Modeling:** Increased visibility of female leaders can inspire and encourage other women and girls to pursue leadership roles.\\n\\n**Arguments against:**\\n\\n1. **Reverse Discrimination:** Setting a quota for female representation might lead to the perception or reality of reverse discrimination, where men might be overlooked for positions despite being qualified, simply to meet the gender target.\\n\\n2. **Meritocracy Concerns:** Critics argue that employment and promotion should be based solely on merit and qualifications, not gender. They fear that quotas could compromise the quality of leadership if less qualified individuals are promoted to meet gender targets.\\n\\n3. **Tokenism:** There is a risk that women appointed to meet quotas might be seen as \\\"tokens,\\\" undermining their legitimacy and potentially leading to resentment among colleagues.\\n\\n4. **Oversimplification of Diversity:** Focusing only on gender might overlook other important aspects of diversity, such as race, ethnicity, socioeconomic background, or sexual orientation.\\n\\nUltimately, the morality of aiming for a certain percentage of females in managerial positions depends on one's ethical framework and the context in which such policies are implemented. Proponents of gender diversity targets often argue that these measures are necessary as a transitional mechanism to create a level playing field, while opponents may argue for a \\\"color-blind\\\" or \\\"gender-blind\\\" approach to hiring and promotions.\\n\\nOrganizations and societies must carefully consider the implications of these strategies and strive to implement policies that promote fairness and equality while minimizing negative consequences. It is also important to address the root causes of gender inequality, such as unconscious bias, work-life balance challenges, and lack of supportive policies, to create an environment where everyone has the opportunity to succeed based on their capabilities and contributions.\",\"Ah, the age-old culinary conundrum that has divided nations and dinner tables: does pineapple belong on a pizza? The tropical twist of pineapple on pizza, known as Hawaiian pizza, is a hotly debated topic where taste buds battle and pizza purists protest.\\n\\nLet's slice into the debate with a zest of fun:\\n\\n**Team Pineapple:** \\\"Absolutely, yes! Pineapple on pizza is like a beach party in your mouth. The sweet juiciness of pineapple chunks frolicking with savory ham or bacon creates a flavor wave that surfs across the cheesy ocean of deliciousness. It's the Mardi Gras of pizzas, where sweet meets savory in a jubilant jamboree!\\\"\\n\\n**Team No-Pineapple:** \\\"No way, not in a million pizzas! Pineapple is a fruit that should be sunbathing on a tropical fruit platter, not freeloading on a sacred slice of pizza. The thought of warm, melty cheese conspiring with pineapple's sugary mischief is enough to make Italian ancestors turn in their tomato patches. Keep the pineapple in the fruit salad where it belongs!\\\"\\n\\nAt the end of the day, whether pineapple belongs on pizza is a matter of personal taste. Some say it's a match made in heaven, others say it's a culinary crime. But let's face it, in the world of pizza toppings, where you can find everything from anchovies to zucchini, there's room for a little pineapple pizzazz. So, if your taste buds crave that sweet and tangy twist, go ahead and let your pineapple flag fly atop that glorious cheese-covered dough. Bon app\\u00e9tit, or as they say in pineapple paradise, \\\"Aloha-ppetite!\\\" \\ud83c\\udf4d\\ud83c\\udf55\"]   \n",
      "1                                                                                                                                                                                                                                                                                                                                                                                                                                                                                                                                                                                                                                                                                                                                                                                                                                                                                                                                                                                                                                                                                                                                                                                                                                                                                                                                                                                                                                                                                  [\"A marriage license is a legal document that allows a couple to get married. It is issued by a government agency, such as a county clerk's office or a state government, and is valid for a certain period of time, usually one year. After the marriage has taken place, the couple must obtain a marriage certificate, which is a document that records the marriage and is used to prove that the marriage took place. The marriage certificate is usually issued by the same government agency that issued the marriage license, and it is typically used for legal purposes, such as to change a name on a driver's license or to prove that a couple is married when applying for government benefits.\",\"If you want to get both a marriage license and a marriage certificate in California as quickly as possible, there are a few steps you can follow:\\n\\n1.   Obtain a marriage license: You can obtain a marriage license from the county clerk's office in the county where you plan to marry. The process typically takes about 30 minutes to complete and you will need to bring identification, such as a driver's license or passport, and proof of your age, such as a birth certificate or a passport. The marriage license is valid for one year and there is no waiting period between the time you obtain the license and the time of the marriage.\\n2.   Get married: After obtaining the marriage license, you can get married at any location of your choice, as long as it is legally recognized as a place to get married.\\n3.   Obtain a marriage certificate: After the marriage has taken place, you need to obtain a marriage certificate from the same government agency that issued the marriage license. The process typically takes about 30 minutes to complete and you will need to bring the marriage license and a copy of the marriage certificate to the government agency.\\n\\nNote: You may need to check with your county clerk's office for the specific requirements and process for obtaining a marriage license and a marriage certificate in California.\",\"The minimal time to get a marriage license and a marriage certificate in California can vary depending on the specific requirements and process in your county. Generally, you can obtain a marriage license and a marriage certificate in California within a few days of applying, but it is best to check with your county clerk's office for the specific requirements and process for your county.\\n\\nIn some counties, you can obtain a marriage license and a marriage certificate on the same day, while in other counties, you may need to wait a few days. The process typically takes about 30 minutes to complete and you will need to bring identification, such as a driver's license or passport, and proof of your age, such as a birth certificate or a passport.\\n\\nIt is important to note that some counties in California require a waiting period between the time you obtain the marriage license and the time of the marriage. This waiting period can range from a few days to several weeks, and it is best to check with your county clerk's office for the specific requirements in your county.\"]   \n",
      "\n",
      "                                                                                                                                                                                                                                                                                                                                                                                                                                                                                                                                                                                                                                                                                                                                                                                                                                                                                                                                                                                                                                                                                                                                                                                                                                                                                                                                                                                                                                                                                                                                                                                                                                                                                                                                                                                                                                                                                                                                                                                                                                                                                                                                                                                                                                                                                                                                                                                                                                                                                                                                                                                                                                                                                                                                                                                                                                                                                                                                                                                                                                                                                                                                                                                                                                                                                                                                                                                                                                                                                                                                                                                                                                                                                                                                                                                          response_b  \\\n",
      "0                                                                                                                                                                                                                                                                                                                                                                                                                                                                                                                                                                                                                                                                                                                                                                                                                                                                                                                                                                                                                                                                                                                                                                                                                                                                                                                                                                                                                                                                                                                                                                                                                                                                                                                                                                                                                                                                                                                                                                                                                                                                                                                                                                                                                                                                                                                                                                                                                                                                                                                                             [\"As an AI, I don't have personal beliefs or opinions. However, I can tell you that the question of gender quotas in managerial positions is a complex one and positions can vary. Advocates argue that such measures can help correct historical imbalances, promote diversity, and may lead to better decision-making. Critics may argue that positions should be based purely on merit, and that quotas could potentially lead to tokenism or unqualified candidates being promoted. Morality can be subjective and differs from person to person based on their personal beliefs, cultural background, and values. It's a topic with valid arguments on both sides, and it's up to each individual or organization to decide what they believe is right.\",\"As an AI, I don't eat, so I don't have personal preferences. But, in the world of pizza, the pineapple topping is a hotly debated topic! Some people love the sweet and savory mix it brings to a pizza, a flavor combination made famous by the Hawaiian pizza. Others firmly believe that the sweetness of the fruit has no place on a pizza. It's a pizza puzzle that might never be solved. So, whether pineapple belongs on a pizza or not, it truly depends on your taste buds!\"]   \n",
      "1  [\"A marriage license and a marriage certificate are two different legal documents that have separate purposes.\\n\\n1. Marriage License: A marriage license is a legal document that gives a couple permission to get married. It's usually obtained from local government or court officials before the wedding ceremony takes place. The couple is required to meet certain criteria, such as being of a certain age or not being closely related. Once the license is issued, there's often a waiting period before the marriage ceremony can take place. The marriage license has to be signed by the couple, their witnesses, and the officiant conducting the marriage ceremony, then returned to the license issuer for recording.\\n\\n2. Marriage Certificate: A marriage certificate, on the other hand, is a document that proves a marriage has legally taken place. It's issued after the marriage ceremony, once the signed marriage license has been returned and recorded. The marriage certificate includes details about the couple, like their names, the date and location of their wedding, and the names of their witnesses. This document serves as the official record of the marriage and is often needed for legal transactions like changing a name, adding a spouse to insurance, or proving marital status.\",\"In California, here are the general steps to obtain a marriage license and marriage certificate as quickly as possible:\\n\\n1. Marriage License:\\n\\n   - Both parties must appear together at one of the County Clerk\\u2019s offices.\\n   - Complete a marriage license application before arriving (available online in many counties).\\n   - Bring valid identification (driver's license, passport, etc.) to prove your identity and age.\\n   - In California, you do not need to be a resident, and there's no waiting period or blood test required.\\n   - Pay the marriage license fee. The fee varies by county but is usually between $35 and $100.\\n   - The marriage license is issued immediately and is valid for 90 days.\\n\\n2. Marriage Ceremony: \\n\\n   - Arrange to have a wedding ceremony within 90 days of receiving the license. This could be a civil ceremony performed at the County Clerk\\u2019s office or a private ceremony.\\n   - The person performing the ceremony must return the completed license to the County Recorder\\u2019s office within 10 days of the ceremony.\\n\\n3. Marriage Certificate: \\n\\n   - After the signed marriage license has been returned and registered by the County Recorder, it becomes a marriage certificate.\\n   - You can order copies of the certificate for an additional fee. Processing times can vary, but expedited service may be available for an extra fee.\\n\\nRemember, each county may have slightly different rules and fees, so it's best to check with your specific County Clerk\\u2019s office for the most accurate information.\",\"The marriage license in California is issued immediately when you apply in person and meet all the requirements, so theoretically, you could get married on the same day if you have an officiant ready to perform the ceremony.\\n\\nHowever, the marriage certificate, which is the official record of your marriage, is only issued after the signed marriage license is returned and recorded by the county. The person who performs your marriage ceremony has 10 days to return the license to the county recorder's office.\\n\\nSo, while you could technically get married (i.e., obtain a license and have a ceremony) within a day, receiving the official marriage certificate will take a little longer, depending on how quickly the signed license is returned and how long the county recorder's office takes to process it.\"]   \n",
      "\n",
      "   winner_model_a  winner_model_b  winner_tie  \n",
      "0               1               0           0  \n",
      "1               0               1           0  \n",
      "\n",
      "Missing values:\n",
      "id                0\n",
      "model_a           0\n",
      "model_b           0\n",
      "prompt            0\n",
      "response_a        0\n",
      "response_b        0\n",
      "winner_model_a    0\n",
      "winner_model_b    0\n",
      "winner_tie        0\n",
      "dtype: int64\n",
      "\n",
      "Distribution of winners:\n",
      "Model A wins: winner_model_a\n",
      "0    0.650921\n",
      "1    0.349079\n",
      "Name: proportion, dtype: float64\n",
      "Model B wins: winner_model_b\n",
      "0    0.658089\n",
      "1    0.341911\n",
      "Name: proportion, dtype: float64\n",
      "Ties: winner_tie\n",
      "0    0.690989\n",
      "1    0.309011\n",
      "Name: proportion, dtype: float64\n"
     ]
    }
   ],
   "source": [
    "# This Python 3 environment comes with many helpful analytics libraries installed\n",
    "# It is defined by the kaggle/python Docker image: https://github.com/kaggle/docker-python\n",
    "# For example, here's several helpful packages to load\n",
    "\n",
    "import numpy as np # linear algebra\n",
    "import pandas as pd # data processing, CSV file I/O (e.g. pd.read_csv)\n",
    "from sklearn.feature_extraction.text import TfidfVectorizer\n",
    "from sklearn.model_selection import train_test_split\n",
    "from sklearn.linear_model import LogisticRegression\n",
    "from sklearn.metrics import log_loss\n",
    "from sklearn.multioutput import MultiOutputClassifier\n",
    "pd.set_option('display.max_colwidth', None)\n",
    "# Input data files are available in the read-only \"../input/\" directory\n",
    "# For example, running this (by clicking run or pressing Shift+Enter) will list all files under the input directory\n",
    "\n",
    "import os\n",
    "for dirname, _, filenames in os.walk('/kaggle/input'):\n",
    "    for filename in filenames:\n",
    "        print(os.path.join(dirname, filename))\n",
    "\n",
    "#Load the data\n",
    "train_df = pd.read_csv('../input/llm-classification-finetuning/train.csv')\n",
    "\n",
    "#Basic Exploration\n",
    "print(\"Dataset Shape:\",train_df.shape)\n",
    "print(\"\\nColumns:\",train_df.columns.tolist())\n",
    "print(\"\\nSample of data:\")\n",
    "print(train_df.head(2))\n",
    "\n",
    "#Check for missing values\n",
    "print(\"\\nMissing values:\")\n",
    "print(train_df.isnull().sum())\n",
    "\n",
    "#Check distribution of winners\n",
    "print(\"\\nDistribution of winners:\")\n",
    "print(\"Model A wins:\",train_df['winner_model_a'].value_counts(normalize=True))\n",
    "print(\"Model B wins:\", train_df['winner_model_b'].value_counts(normalize=True))\n",
    "print(\"Ties:\", train_df['winner_tie'].value_counts(normalize=True))"
   ]
  },
  {
   "cell_type": "code",
   "execution_count": 2,
   "id": "dee5e880",
   "metadata": {
    "execution": {
     "iopub.execute_input": "2024-12-22T02:11:58.164288Z",
     "iopub.status.busy": "2024-12-22T02:11:58.163894Z",
     "iopub.status.idle": "2024-12-22T02:12:01.272536Z",
     "shell.execute_reply": "2024-12-22T02:12:01.271247Z"
    },
    "papermill": {
     "duration": 3.114045,
     "end_time": "2024-12-22T02:12:01.274519",
     "exception": false,
     "start_time": "2024-12-22T02:11:58.160474",
     "status": "completed"
    },
    "tags": []
   },
   "outputs": [
    {
     "name": "stdout",
     "output_type": "stream",
     "text": [
      "Sample processed responses:\n",
      "                                                                                                                                                                                                                                                                                                                                                                                                                                                                                                                                                                                                                                                                                                                                                                                                                                                                                                                                                                                                                                                                                                                                                                                                                                                                                                                                                                                                                                                                                                                                                                                                                                                                                                                                                                                                                                                                                                                                                                                                                                                                                                                                                                                                                                                                                                                                                                                                                                                                                                                                                                                                                                                                                                                                                                                                                                                                                                                                                                                                                                                                                                                                                                                                                                                                                                                                                                                                                                                                                                                                                                                                                                                                                                                                                                                                                                                                                                                                                                                                                                                                                                                                                                                                                                                                                                                                                                                                                                                                                                                                                                                                                                                                                                                                                                                                                                                                                     response_a_processed  \\\n",
      "0  [\"is it morally right to try to have a certain percentage of females on managerial positions?\",\"ok, does pineapple belong on a pizza? relax and give me fun answer.\"] [sep] [\"the question of whether it is morally right to aim for a certain percentage of females in managerial positions is a complex ethical issue that involves considerations of fairness, equality, diversity, and discrimination.\\n\\nhere are some arguments in favor of and against such policies:\\n\\n**arguments in favor:**\\n\\n1. **correcting historical inequities:** women have historically been underrepresented in leadership roles due to various cultural, institutional, and social barriers. aiming for a specific percentage can be seen as a corrective measure to address past and ongoing discrimination.\\n\\n2. **promoting diversity:** diverse leadership teams can enhance decision-making and represent a broader range of perspectives. this can lead to better outcomes for organizations and society as a whole.\\n\\n3. **equality of opportunity:** setting targets for female representation in management can help ensure that women have equal opportunities to advance in their careers.\\n\\n4. **role modeling:** increased visibility of female leaders can inspire and encourage other women and girls to pursue leadership roles.\\n\\n**arguments against:**\\n\\n1. **reverse discrimination:** setting a quota for female representation might lead to the perception or reality of reverse discrimination, where men might be overlooked for positions despite being qualified, simply to meet the gender target.\\n\\n2. **meritocracy concerns:** critics argue that employment and promotion should be based solely on merit and qualifications, not gender. they fear that quotas could compromise the quality of leadership if less qualified individuals are promoted to meet gender targets.\\n\\n3. **tokenism:** there is a risk that women appointed to meet quotas might be seen as \\\"tokens,\\\" undermining their legitimacy and potentially leading to resentment among colleagues.\\n\\n4. **oversimplification of diversity:** focusing only on gender might overlook other important aspects of diversity, such as race, ethnicity, socioeconomic background, or sexual orientation.\\n\\nultimately, the morality of aiming for a certain percentage of females in managerial positions depends on one's ethical framework and the context in which such policies are implemented. proponents of gender diversity targets often argue that these measures are necessary as a transitional mechanism to create a level playing field, while opponents may argue for a \\\"color-blind\\\" or \\\"gender-blind\\\" approach to hiring and promotions.\\n\\norganizations and societies must carefully consider the implications of these strategies and strive to implement policies that promote fairness and equality while minimizing negative consequences. it is also important to address the root causes of gender inequality, such as unconscious bias, work-life balance challenges, and lack of supportive policies, to create an environment where everyone has the opportunity to succeed based on their capabilities and contributions.\",\"ah, the age-old culinary conundrum that has divided nations and dinner tables: does pineapple belong on a pizza? the tropical twist of pineapple on pizza, known as hawaiian pizza, is a hotly debated topic where taste buds battle and pizza purists protest.\\n\\nlet's slice into the debate with a zest of fun:\\n\\n**team pineapple:** \\\"absolutely, yes! pineapple on pizza is like a beach party in your mouth. the sweet juiciness of pineapple chunks frolicking with savory ham or bacon creates a flavor wave that surfs across the cheesy ocean of deliciousness. it's the mardi gras of pizzas, where sweet meets savory in a jubilant jamboree!\\\"\\n\\n**team no-pineapple:** \\\"no way, not in a million pizzas! pineapple is a fruit that should be sunbathing on a tropical fruit platter, not freeloading on a sacred slice of pizza. the thought of warm, melty cheese conspiring with pineapple's sugary mischief is enough to make italian ancestors turn in their tomato patches. keep the pineapple in the fruit salad where it belongs!\\\"\\n\\nat the end of the day, whether pineapple belongs on pizza is a matter of personal taste. some say it's a match made in heaven, others say it's a culinary crime. but let's face it, in the world of pizza toppings, where you can find everything from anchovies to zucchini, there's room for a little pineapple pizzazz. so, if your taste buds crave that sweet and tangy twist, go ahead and let your pineapple flag fly atop that glorious cheese-covered dough. bon app\\u00e9tit, or as they say in pineapple paradise, \\\"aloha-ppetite!\\\" \\ud83c\\udf4d\\ud83c\\udf55\"]   \n",
      "\n",
      "                                                                                                                                                                                                                                                                                                                                                                                                                                                                                                                                                                                                                                                                                                                                                                                                                                                                                                                                                                                                                                                                                                                                                                                                                                                                                                                                                                                                                 response_b_processed  \n",
      "0  [\"is it morally right to try to have a certain percentage of females on managerial positions?\",\"ok, does pineapple belong on a pizza? relax and give me fun answer.\"] [sep] [\"as an ai, i don't have personal beliefs or opinions. however, i can tell you that the question of gender quotas in managerial positions is a complex one and positions can vary. advocates argue that such measures can help correct historical imbalances, promote diversity, and may lead to better decision-making. critics may argue that positions should be based purely on merit, and that quotas could potentially lead to tokenism or unqualified candidates being promoted. morality can be subjective and differs from person to person based on their personal beliefs, cultural background, and values. it's a topic with valid arguments on both sides, and it's up to each individual or organization to decide what they believe is right.\",\"as an ai, i don't eat, so i don't have personal preferences. but, in the world of pizza, the pineapple topping is a hotly debated topic! some people love the sweet and savory mix it brings to a pizza, a flavor combination made famous by the hawaiian pizza. others firmly believe that the sweetness of the fruit has no place on a pizza. it's a pizza puzzle that might never be solved. so, whether pineapple belongs on a pizza or not, it truly depends on your taste buds!\"]  \n"
     ]
    }
   ],
   "source": [
    "def preprocess_text(text):\n",
    "    \"\"\"Basic Text Processing\"\"\"\n",
    "    #convert to lowercase\n",
    "    text = str(text).lower()\n",
    "\n",
    "    #Remove extra whitespace\n",
    "    text = ' '.join(text.split())\n",
    "    return text\n",
    "\n",
    "#Combine prompt and responses for analysis\n",
    "train_df['response_a_full'] = train_df['prompt'] + \" [SEP] \" + train_df['response_a']\n",
    "train_df['response_b_full'] = train_df['prompt'] + \" [SEP] \" + train_df['response_b']\n",
    "\n",
    "#Applying preprocessing\n",
    "train_df['response_a_processed'] = train_df['response_a_full'].apply(preprocess_text)\n",
    "train_df['response_b_processed'] = train_df['response_b_full'].apply(preprocess_text)\n",
    "\n",
    "\n",
    "#Look at some processed examples\n",
    "print(\"Sample processed responses:\")\n",
    "print(train_df[['response_a_processed', 'response_b_processed']].head(1))"
   ]
  },
  {
   "cell_type": "code",
   "execution_count": 3,
   "id": "9ef9c86f",
   "metadata": {
    "execution": {
     "iopub.execute_input": "2024-12-22T02:12:01.281512Z",
     "iopub.status.busy": "2024-12-22T02:12:01.281134Z",
     "iopub.status.idle": "2024-12-22T02:16:04.647411Z",
     "shell.execute_reply": "2024-12-22T02:16:04.645285Z"
    },
    "papermill": {
     "duration": 243.377559,
     "end_time": "2024-12-22T02:16:04.655155",
     "exception": false,
     "start_time": "2024-12-22T02:12:01.277596",
     "status": "completed"
    },
    "tags": []
   },
   "outputs": [
    {
     "name": "stdout",
     "output_type": "stream",
     "text": [
      "Log loss for winner_model_a: 0.6351862218031198\n",
      "Log loss for winner_model_b: 0.6319725774375268\n",
      "Log loss for winner_tie: 0.6282944951158368\n",
      "Average Log Loss: 0.6318177647854945\n"
     ]
    }
   ],
   "source": [
    "#Convert text to numerical features using TF-IDF\n",
    "tfidf = TfidfVectorizer(max_features=5000) #start with limited features\n",
    "\n",
    "#Creates features for both responses\n",
    "features_a = tfidf.fit_transform(train_df['response_a_processed'])\n",
    "features_b = tfidf.fit_transform(train_df['response_b_processed'])\n",
    "\n",
    "#Combine features from both responses\n",
    "X = np.hstack([features_a.toarray(), features_b.toarray()])\n",
    "\n",
    "#Create traget variable (one-hot encoded)\n",
    "y = pd.get_dummies(train_df[['winner_model_a', 'winner_model_b','winner_tie']])\n",
    "\n",
    "#Split the data\n",
    "x_train, x_val, y_train, y_val = train_test_split(X,y, test_size=0.2, random_state = 42)\n",
    "\n",
    "\n",
    "#Create and Train the model\n",
    "#We wrap LogisticRegression with MultiOutputClassifier to handle multiple targets\n",
    "base_model = LogisticRegression(max_iter = 1000)\n",
    "model = MultiOutputClassifier(base_model)\n",
    "model.fit(x_train, y_train)\n",
    "\n",
    "#Make prediction on validation set\n",
    "val_pred = model.predict_proba(x_val)\n",
    "\n",
    "#Calculate Log loss\n",
    "#Since we have multiple output, we  need to calculate log loss for each output and average \n",
    "scores = []\n",
    "for i, target in enumerate(['winner_model_a', 'winner_model_b', 'winner_tie']):\n",
    "    score = log_loss(y_val[target], val_pred[i])\n",
    "    scores.append(score)\n",
    "    print(f'Log loss for {target}: {score}')\n",
    "print(f'Average Log Loss: {sum(scores)/len(scores)}')"
   ]
  },
  {
   "cell_type": "code",
   "execution_count": 4,
   "id": "592e8913",
   "metadata": {
    "execution": {
     "iopub.execute_input": "2024-12-22T02:16:04.673859Z",
     "iopub.status.busy": "2024-12-22T02:16:04.673249Z",
     "iopub.status.idle": "2024-12-22T02:16:04.738661Z",
     "shell.execute_reply": "2024-12-22T02:16:04.737575Z"
    },
    "papermill": {
     "duration": 0.07696,
     "end_time": "2024-12-22T02:16:04.740846",
     "exception": false,
     "start_time": "2024-12-22T02:16:04.663886",
     "status": "completed"
    },
    "tags": []
   },
   "outputs": [
    {
     "name": "stdout",
     "output_type": "stream",
     "text": [
      "\n",
      "Submission file preview:\n",
      "        id  winner_model_a  winner_model_b  winner_tie\n",
      "0   136060        0.256772        0.284560    0.458667\n",
      "1   211333        0.311365        0.517635    0.171000\n",
      "2  1233961        0.306163        0.522098    0.171738\n",
      "\n",
      "Sum of probabilities (should be exactly 1):\n",
      "count    3.0\n",
      "mean     1.0\n",
      "std      0.0\n",
      "min      1.0\n",
      "25%      1.0\n",
      "50%      1.0\n",
      "75%      1.0\n",
      "max      1.0\n",
      "dtype: float64\n"
     ]
    }
   ],
   "source": [
    "# Load test data\n",
    "test_df = pd.read_csv('../input/llm-classification-finetuning/test.csv')\n",
    "\n",
    "# Preprocess test data\n",
    "test_df['response_a_full'] = test_df['prompt'] + \" [SEP] \" + test_df['response_a']\n",
    "test_df['response_b_full'] = test_df['prompt'] + \" [SEP] \" + test_df['response_b']\n",
    "\n",
    "test_df['response_a_processed'] = test_df['response_a_full'].apply(preprocess_text)\n",
    "test_df['response_b_processed'] = test_df['response_b_full'].apply(preprocess_text)\n",
    "\n",
    "# Create features for test data\n",
    "test_features_a = tfidf.transform(test_df['response_a_processed'])\n",
    "test_features_b = tfidf.transform(test_df['response_b_processed'])\n",
    "\n",
    "# Combine test features\n",
    "X_test = np.hstack([test_features_a.toarray(), test_features_b.toarray()])\n",
    "\n",
    "# Make predictions on test data\n",
    "test_predictions = model.predict_proba(X_test)\n",
    "\n",
    "# Create submission DataFrame - Fixed version\n",
    "submission = pd.DataFrame({\n",
    "    'id': test_df['id'],\n",
    "    'winner_model_a': test_predictions[0][:, 1],  # Get probabilities for positive class\n",
    "    'winner_model_b': test_predictions[1][:, 1],\n",
    "    'winner_tie': test_predictions[2][:, 1]\n",
    "})\n",
    "\n",
    "# Normalize probabilities to ensure they sum to 1\n",
    "prob_columns = ['winner_model_a', 'winner_model_b', 'winner_tie']\n",
    "submission[prob_columns] = submission[prob_columns].div(submission[prob_columns].sum(axis=1), axis=0)\n",
    "\n",
    "# Save submission file\n",
    "submission.to_csv('submission.csv', index=False)\n",
    "\n",
    "# Verify submission format\n",
    "print(\"\\nSubmission file preview:\")\n",
    "print(submission.head())\n",
    "\n",
    "# Verify probabilities sum to 1\n",
    "sum_probs = submission[prob_columns].sum(axis=1)\n",
    "print(\"\\nSum of probabilities (should be exactly 1):\")\n",
    "print(sum_probs.describe())"
   ]
  },
  {
   "cell_type": "code",
   "execution_count": 5,
   "id": "77dc80e8",
   "metadata": {
    "execution": {
     "iopub.execute_input": "2024-12-22T02:16:04.749269Z",
     "iopub.status.busy": "2024-12-22T02:16:04.748835Z",
     "iopub.status.idle": "2024-12-22T02:16:04.761392Z",
     "shell.execute_reply": "2024-12-22T02:16:04.760334Z"
    },
    "papermill": {
     "duration": 0.018471,
     "end_time": "2024-12-22T02:16:04.763055",
     "exception": false,
     "start_time": "2024-12-22T02:16:04.744584",
     "status": "completed"
    },
    "tags": []
   },
   "outputs": [
    {
     "name": "stdout",
     "output_type": "stream",
     "text": [
      "Submission Verification:\n",
      "✓ All required columns present\n",
      "✓ No null values\n",
      "✓ Probabilities in valid range\n",
      "✓ Probabilities sum to 1\n"
     ]
    }
   ],
   "source": [
    "# Verification checks\n",
    "def verify_submission(submission_df):\n",
    "    print(\"Submission Verification:\")\n",
    "    \n",
    "    # Check column names\n",
    "    expected_columns = ['id', 'winner_model_a', 'winner_model_b', 'winner_tie']\n",
    "    missing_cols = set(expected_columns) - set(submission_df.columns)\n",
    "    if missing_cols:\n",
    "        print(f\"❌ Missing columns: {missing_cols}\")\n",
    "    else:\n",
    "        print(\"✓ All required columns present\")\n",
    "    \n",
    "    # Check for null values\n",
    "    if submission_df.isnull().any().any():\n",
    "        print(\"❌ Contains null values!\")\n",
    "    else:\n",
    "        print(\"✓ No null values\")\n",
    "    \n",
    "    # Check probability range\n",
    "    probs_df = submission_df[['winner_model_a', 'winner_model_b', 'winner_tie']]\n",
    "    if (probs_df < 0).any().any() or (probs_df > 1).any().any():\n",
    "        print(\"❌ Probabilities outside [0,1] range!\")\n",
    "    else:\n",
    "        print(\"✓ Probabilities in valid range\")\n",
    "    \n",
    "    # Check probability sums\n",
    "    prob_sums = probs_df.sum(axis=1)\n",
    "    if not np.allclose(prob_sums, 1, atol=1e-5):\n",
    "        print(\"❌ Probabilities don't sum to 1!\")\n",
    "    else:\n",
    "        print(\"✓ Probabilities sum to 1\")\n",
    "\n",
    "# Run verification\n",
    "verify_submission(submission)"
   ]
  }
 ],
 "metadata": {
  "kaggle": {
   "accelerator": "none",
   "dataSources": [
    {
     "databundleVersionId": 9809560,
     "sourceId": 86518,
     "sourceType": "competition"
    }
   ],
   "dockerImageVersionId": 30822,
   "isGpuEnabled": false,
   "isInternetEnabled": false,
   "language": "python",
   "sourceType": "notebook"
  },
  "kernelspec": {
   "display_name": "Python 3",
   "language": "python",
   "name": "python3"
  },
  "language_info": {
   "codemirror_mode": {
    "name": "ipython",
    "version": 3
   },
   "file_extension": ".py",
   "mimetype": "text/x-python",
   "name": "python",
   "nbconvert_exporter": "python",
   "pygments_lexer": "ipython3",
   "version": "3.10.12"
  },
  "papermill": {
   "default_parameters": {},
   "duration": 255.474543,
   "end_time": "2024-12-22T02:16:05.587195",
   "environment_variables": {},
   "exception": null,
   "input_path": "__notebook__.ipynb",
   "output_path": "__notebook__.ipynb",
   "parameters": {},
   "start_time": "2024-12-22T02:11:50.112652",
   "version": "2.6.0"
  }
 },
 "nbformat": 4,
 "nbformat_minor": 5
}
